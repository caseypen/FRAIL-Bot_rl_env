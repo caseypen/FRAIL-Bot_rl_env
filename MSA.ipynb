{
 "cells": [
  {
   "cell_type": "code",
   "execution_count": 1,
   "metadata": {
    "collapsed": true
   },
   "outputs": [],
   "source": [
    "import numpy as np\n",
    "import math\n",
    "from scipy.spatial.distance import cityblock\n",
    "import matplotlib.pyplot as plt\n",
    "from re import split"
   ]
  },
  {
   "cell_type": "code",
   "execution_count": 4,
   "metadata": {},
   "outputs": [
    {
     "data": {
      "text/plain": [
       "{'model_fast': [477.1, 42.4, 0.0566, 1.4662],\n",
       " 'model_medi': [692.1, 92.5, 0.0424, 1.1238],\n",
       " 'model_slow': [941, 414.4, 0.0337, 0.7663]}"
      ]
     },
     "execution_count": 4,
     "metadata": {},
     "output_type": "execute_result"
    }
   ],
   "source": [
    "# statistics of finishing time (unit: s)\n",
    "fast_mean, fast_sigma=477.1, 42.4\n",
    "slow_mean, slow_sigma=941, 414.4\n",
    "medi_mean, medi_sigma=692.1, 92.5\n",
    "N_pickers_fast, N_pickers_medium, N_pickers_slow = 4, 4, 4\n",
    "# statistics of moving velocity while picking(unit: m/s)\n",
    "v_fast, v_slow, v_medi = 0.0566, 0.0337, 0.0424\n",
    "w_fast, w_slow, w_medi = 1.4662, 0.7663, 1.1238\n",
    "model_truth = {\"model_fast\":[fast_mean,fast_sigma,v_fast,w_fast],\n",
    "               \"model_medi\":[medi_mean,medi_sigma,v_medi,w_medi],\n",
    "               \"model_slow\":[slow_mean,slow_sigma,v_slow,w_slow]}\n",
    "model_truth"
   ]
  },
  {
   "cell_type": "code",
   "execution_count": 184,
   "metadata": {},
   "outputs": [
    {
     "name": "stdout",
     "output_type": "stream",
     "text": [
      "[[  6.4008   0.    ]\n",
      " [ 19.2024   0.    ]]\n"
     ]
    }
   ],
   "source": [
    "# sampling of finishing intervals of pickers' finishing time\n",
    "f_t_sample_fast = np.random.normal(fast_mean,fast_sigma,N_pickers_fast)\n",
    "f_t_sample_slow = np.random.normal(slow_mean,slow_sigma,N_pickers_slow)\n",
    "f_t_sample_medium = np.random.normal(medium_mean,medium_sigma,N_pickers_medium)\n",
    "f_t_sample=np.concatenate((f_t_sample_fast,f_t_sample_slow,f_t_sample_medium)) # (12,)\n",
    "# 0 means fast, 1 means medium, 2 means slow\n",
    "f_t_model = (np.zeros(N_pickers_fast),np.ones(N_pickers_slow)*2,np.ones(N_pickers_medium))\n",
    "f_t_model = np.concatenate(f_t_model).astype(int)\n",
    "# walking velocity and moving velocity of pickers\n",
    "v_t_pickers=(np.ones(N_pickers_fast)*v_fast,np.ones(N_pickers_slow)*v_slow,np.ones(N_pickers_medium)*v_medium)\n",
    "v_pickers = np.concatenate(v_t_pickers)\n",
    "w_t_pickers=(np.ones(N_pickers_fast)*w_fast,np.ones(N_pickers_slow)*w_slow,np.ones(N_pickers_medium)*w_medium)\n",
    "w_pickers = np.concatenate(w_t_pickers)\n",
    "# shuffle to initialize the prediction\n",
    "fur_pos = np.random.permutation(N_pickers_fast+N_pickers_medium+N_pickers_slow)\n",
    "#index is pickers' position from left to right\n",
    "f_t_sample = f_t_sample[fur_pos]\n",
    "v_pickers = v_pickers[fur_pos]\n",
    "w_pickers = w_pickers[fur_pos]\n",
    "f_t_model = f_t_model[fur_pos] # fast, medium or slow\n",
    "# fields information (unit: m)\n",
    "origin = np.asarray([0,0])\n",
    "furrow_width = 28*0.0254\n",
    "berry_width = 14*0.0254\n",
    "furrow_length = 5400*0.0254\n",
    "picker_num = N_pickers_fast+N_pickers_medium+N_pickers_slow\n",
    "robot_num = 4\n",
    "robot_v = 1 # m/s\n",
    "y_head = 40*0.0254 # y coordinate of furrow head\n",
    "# initialize robots and pickers positions\n",
    "def field_initialization(picker_num, robot_num, y_head, furrow_width, berry_width, furrow_length):\n",
    "    center_1 = [(furrow_width+berry_width)*picker_num/2, 0]\n",
    "    center_2 = [(furrow_width+berry_width)*picker_num*3/2, 0] # (x_center2, y_center2)\n",
    "    center = np.array([center_1, center_2])\n",
    "    r_initial_pos = []\n",
    "    p_initial_pos = []\n",
    "    for i in range(robot_num):\n",
    "        r_initial_pos.append(center_1) # robots are initially at center 1\n",
    "    r_initial_pos = np.asarray(r_initial_pos) # m*2, m1:r_x, m2:r_y\n",
    "\n",
    "    for i in range(picker_num):\n",
    "        x = furrow_width/2 + (furrow_width+berry_width)*i\n",
    "        pos = [x, y_head + furrow_length]\n",
    "        p_initial_pos.append(pos) \t # pickers are initially at further end of furrows\n",
    "    p_initial_pos = np.asarray(p_initial_pos) # n*2, n1:p_x, n2:p_y\n",
    "    return p_initial_pos, r_initial_pos, center\n",
    "p_initial_pos, r_initial_pos, center = field_initialization(picker_num, robot_num, y_head, furrow_width, berry_width, furrow_length)\n",
    "print center"
   ]
  },
  {
   "cell_type": "code",
   "execution_count": 198,
   "metadata": {},
   "outputs": [
    {
     "name": "stdout",
     "output_type": "stream",
     "text": [
      "0 1.0\n"
     ]
    }
   ],
   "source": [
    "# target_pos={}\n",
    "# i=1\n",
    "# target_pos={\"ft\"+str(i):1}\n",
    "# # print p_initial_pos\n",
    "# # for pos in p_initial_pos:\n",
    "# #     print pos[0]\n",
    "# # math.floor(1.4224-0.3556/1.0668)+1\n",
    "# a=np.array([1,2]).reshape(-1,1)\n",
    "# b=np.array([2,3]).reshape(-1,1)\n",
    "# c=[]\n",
    "# c.append(a)\n",
    "# c.append(b)\n",
    "# c=np.concatenate(c,axis=1)\n",
    "for i, k in enumerate(np.ones(1)):\n",
    "    print i,k"
   ]
  },
  {
   "cell_type": "code",
   "execution_count": 191,
   "metadata": {
    "scrolled": true
   },
   "outputs": [
    {
     "name": "stdout",
     "output_type": "stream",
     "text": [
      "[array([[   0.3556    ],\n",
      "       [ 108.55856073]]), array([[  0.3556    ],\n",
      "       [ 85.63245157]]), array([[  0.3556    ],\n",
      "       [ 62.70634242]])]\n",
      "[array([[   1.4224    ],\n",
      "       [ 108.41926428]]), array([[  1.4224    ],\n",
      "       [ 84.08182283]])]\n",
      "[array([[   2.4892    ],\n",
      "       [ 112.02449724]]), array([[  2.4892    ],\n",
      "       [ 83.34820691]]), array([[  2.4892    ],\n",
      "       [ 54.67191659]])]\n",
      "[array([[   3.556     ],\n",
      "       [ 111.61491354]]), array([[  3.556     ],\n",
      "       [ 87.39855388]]), array([[  3.556     ],\n",
      "       [ 63.18219421]])]\n",
      "[array([[   4.6228    ],\n",
      "       [ 109.87845309]]), array([[  4.6228    ],\n",
      "       [ 80.54728321]])]\n",
      "[array([[  5.6896    ],\n",
      "       [ 98.93003261]])]\n",
      "[array([[   6.7564    ],\n",
      "       [ 107.72714789]]), array([[  6.7564    ],\n",
      "       [ 79.29959334]])]\n",
      "[array([[  7.8232   ],\n",
      "       [ 90.8224446]])]\n",
      "[array([[   8.89      ],\n",
      "       [ 105.98939139]]), array([[  8.89     ],\n",
      "       [ 74.7632718]])]\n",
      "[array([[   9.9568    ],\n",
      "       [ 109.54583177]]), array([[  9.9568  ],\n",
      "       [ 83.604744]])]\n",
      "[array([[  11.0236    ],\n",
      "       [ 113.85660303]])]\n",
      "[array([[  12.0904    ],\n",
      "       [ 114.34048706]]), array([[ 12.0904    ],\n",
      "       [ 88.36967739]])]\n",
      "{'pos8': array([[   8.89      ,    8.89      ],\n",
      "       [ 105.98939139,   74.7632718 ]]), 'pos9': array([[   9.9568    ,    9.9568    ],\n",
      "       [ 109.54583177,   83.604744  ]]), 'pos6': array([[   6.7564    ,    6.7564    ],\n",
      "       [ 107.72714789,   79.29959334]]), 'pos7': array([[  7.8232   ],\n",
      "       [ 90.8224446]]), 'pos4': array([[   4.6228    ,    4.6228    ],\n",
      "       [ 109.87845309,   80.54728321]]), 'pos5': array([[  5.6896    ],\n",
      "       [ 98.93003261]]), 'pos2': array([[   2.4892    ,    2.4892    ,    2.4892    ],\n",
      "       [ 112.02449724,   83.34820691,   54.67191659]]), 'pos3': array([[   3.556     ,    3.556     ,    3.556     ],\n",
      "       [ 111.61491354,   87.39855388,   63.18219421]]), 'pos0': array([[   0.3556    ,    0.3556    ,    0.3556    ],\n",
      "       [ 108.55856073,   85.63245157,   62.70634242]]), 'pos1': array([[   1.4224    ,    1.4224    ],\n",
      "       [ 108.41926428,   84.08182283]]), 'pos10': array([[  11.0236    ],\n",
      "       [ 113.85660303]]), 'pos11': array([[  12.0904    ,   12.0904    ],\n",
      "       [ 114.34048706,   88.36967739]]), 'ft11': array([ 770.64717126,  770.64717126]), 'ft10': array([ 1119.4812104]), 'ft1': array([ 573.99626066,  573.99626066]), 'ft0': array([ 405.0549321,  405.0549321,  405.0549321]), 'ft3': array([ 427.85087748,  427.85087748,  427.85087748]), 'ft2': array([ 506.64823892,  506.64823892,  506.64823892]), 'ft5': array([ 1062.54330509]), 'ft4': array([ 691.77287454,  691.77287454]), 'ft7': array([ 1313.0128301]), 'ft6': array([ 502.25361404,  502.25361404]), 'ft9': array([ 611.81810786,  611.81810786]), 'ft8': array([ 736.46508462,  736.46508462])}\n",
      "(2, 2)\n",
      "(2, 2)\n",
      "(2, 2)\n",
      "(2, 1)\n",
      "(2, 2)\n",
      "(2, 1)\n",
      "(2, 3)\n",
      "(2, 3)\n",
      "(2, 3)\n",
      "(2, 2)\n",
      "(2, 1)\n",
      "(2, 2)\n",
      "(2, 24)\n"
     ]
    },
    {
     "data": {
      "image/png": "[encoded data removed]",
      "text/plain": [
       "<matplotlib.figure.Figure at 0x7f0cfec71710>"
      ]
     },
     "metadata": {},
     "output_type": "display_data"
    }
   ],
   "source": [
    "def sample_FT(f_t_model):\n",
    "    sample_ft=np.zeros(len(f_t_model))\n",
    "    for i, model in enumerate(f_t_model):\n",
    "        if model==0:\n",
    "            sample_ft[i]=np.random.normal(fast_mean,fast_sigma)\n",
    "        if model==1:\n",
    "            sample_ft[i]=np.random.normal(medium_mean,medium_sigma)\n",
    "        if model==2:\n",
    "            sample_ft[i]=np.random.normal(slow_mean,slow_sigma)\n",
    "    return sample_ft\n",
    "# sample scenario\n",
    "def working_fur(p_pos):\n",
    "    fur_idx=np.ones(len(p_pos))\n",
    "    for i, pos in enumerate(p_pos):\n",
    "        fur_idx[i]=math.floor((pos[0]-furrow_width/2)/(furrow_width+berry_width))+1\n",
    "    return fur_idx\n",
    "def sample_SCENE(sample_ft, p_pos, current_ft, pred_horizon, fur_idx):\n",
    "    scene={} # target position and finish interval\n",
    "    x_offset = furrow_width+berry_width\n",
    "    y_offset = y_head+furrow_length\n",
    "#     print x_offset, y_offset\n",
    "    # frist one finish current furrow and pick the neareast one \n",
    "    for i,ft_interval, ft_cur in zip(range(len(sample_ft)),sample_ft, current_ft):\n",
    "        n = int(math.floor((pred_horizon-ft_cur)/ft_interval) + 1) # obtain sample points on a furrow\n",
    "#         print n, ft_cur\n",
    "        pos_list, ft_list = [], []\n",
    "        cur_pos = p_pos[i].reshape(-1,1)\n",
    "        nxt_pos = np.copy(cur_pos)\n",
    "        for j in range(n):\n",
    "            if j==0:\n",
    "                nxt_pos[1] = cur_pos[1]-v_pickers[i]*ft_cur # y\n",
    "            else:\n",
    "                nxt_pos[1] = cur_pos[1]-v_pickers[i]*ft_interval # y\n",
    "            ft_tray=ft_interval # finish time of next tray\n",
    "            if nxt_pos[1] < y_head:\n",
    "                nxt_pos[0]=nxt_pos[0]+picker_num*x_offset\n",
    "                nxt_pos[1]=y_offset-(y_head-nxt_pos[1])\n",
    "                ft_tray=ft_interval + (cityblock(nxt_pos,cur_pos))/w_pickers[i]\n",
    "#             print \"next position\", nxt_pos\n",
    "            pos_list.append(nxt_pos)\n",
    "#             print pos_list\n",
    "            ft_list.append(ft_tray)\n",
    "            cur_pos=np.copy(nxt_pos)\n",
    "            nxt_pos=np.copy(cur_pos)\n",
    "        print pos_list\n",
    "        if len(pos_list)>1:\n",
    "            scene['pos'+str(i)]=np.concatenate(pos_list,axis=1)\n",
    "#             print scene['pos'+str(i)].shape\n",
    "        else:\n",
    "            scene['pos'+str(i)]=nxt_pos\n",
    "        scene['ft'+str(i)]=np.asarray(ft_list)\n",
    "    return scene\n",
    "prediction_horizon=60*25 # 20 mins as prediction horizon\n",
    "sample_ft = sample_FT(f_t_model) # sampled points based on current prediction\n",
    "p_pos = p_initial_pos # current position of pickers\n",
    "fur_idx = working_fur(p_pos) # working furrows of current pickers\n",
    "f_t_state = np.copy(f_t_sample) # finishing time of current tray\n",
    "scene_sample=sample_SCENE(sample_ft, p_pos, f_t_state, prediction_horizon, fur_idx)\n",
    "print scene_sample\n",
    "sample_points=[]\n",
    "render=True\n",
    "if render:\n",
    "    for i in scene_sample.keys():\n",
    "        char_sp = split('(\\d+)',i)\n",
    "        if char_sp[0] == 'pos':\n",
    "            if len(scene_sample[i]) > 1:\n",
    "                sample_points.append(scene_sample[i])\n",
    "            print scene_sample[i].shape\n",
    "    sample_points=np.concatenate(sample_points,axis=1)\n",
    "    print sample_points.shape\n",
    "    plt.scatter(p_pos[:,0],p_pos[:,1])\n",
    "    plt.scatter(sample_points[0],sample_points[1])\n",
    "    plt.scatter(p_pos[:,0],np.ones(p_pos[:,1].shape)*y_head)\n",
    "    plt.show()"
   ]
  },
  {
   "cell_type": "code",
   "execution_count": 187,
   "metadata": {},
   "outputs": [
    {
     "ename": "ValueError",
     "evalue": "0 is not in list",
     "output_type": "error",
     "traceback": [
      "\u001b[0;31m---------------------------------------------------------------------------\u001b[0m",
      "\u001b[0;31mValueError\u001b[0m                                Traceback (most recent call last)",
      "\u001b[0;32m<ipython-input-187-8dd9b2ec1b5c>\u001b[0m in \u001b[0;36m<module>\u001b[0;34m()\u001b[0m\n\u001b[1;32m      1\u001b[0m \u001b[0mrobot_assign\u001b[0m\u001b[0;34m=\u001b[0m\u001b[0mlist\u001b[0m\u001b[0;34m(\u001b[0m\u001b[0mnp\u001b[0m\u001b[0;34m.\u001b[0m\u001b[0mones\u001b[0m\u001b[0;34m(\u001b[0m\u001b[0mrobot_num\u001b[0m\u001b[0;34m)\u001b[0m\u001b[0;34m*\u001b[0m\u001b[0;34m(\u001b[0m\u001b[0;34m-\u001b[0m\u001b[0;36m1\u001b[0m\u001b[0;34m)\u001b[0m\u001b[0;34m)\u001b[0m\u001b[0;34m\u001b[0m\u001b[0m\n\u001b[1;32m      2\u001b[0m \u001b[0mrobot_assign\u001b[0m\u001b[0;34m[\u001b[0m\u001b[0;36m0\u001b[0m\u001b[0;34m]\u001b[0m\u001b[0;34m=\u001b[0m\u001b[0;36m1\u001b[0m\u001b[0;34m\u001b[0m\u001b[0m\n\u001b[0;32m----> 3\u001b[0;31m \u001b[0mrobot_assign\u001b[0m\u001b[0;34m.\u001b[0m\u001b[0mindex\u001b[0m\u001b[0;34m(\u001b[0m\u001b[0;36m0\u001b[0m\u001b[0;34m)\u001b[0m\u001b[0;34m\u001b[0m\u001b[0m\n\u001b[0m",
      "\u001b[0;31mValueError\u001b[0m: 0 is not in list"
     ]
    }
   ],
   "source": [
    "robot_assign=list(np.ones(robot_num)*(-1))\n",
    "robot_assign[0]=1\n",
    "robot_assign.index(0)"
   ]
  },
  {
   "cell_type": "code",
   "execution_count": 195,
   "metadata": {},
   "outputs": [
    {
     "name": "stdout",
     "output_type": "stream",
     "text": [
      "[ 0  1  2  3  4  5  6  7  8  9 10 11 12 13 14 15 16 18 20 21 23 24 26 27]\n",
      "[ 19.2024   0.    ] [ 6.4008  0.    ]\n",
      "[  523.27631216   701.80980466   462.04068487   469.2771459    667.39497423\n",
      "  1164.56876516   537.96558499  1405.15001192   759.11812771   675.23981666\n",
      "   721.6438269    707.28525035]\n",
      "[0, -1.0, -1.0, -1.0]\n",
      "[   0.3556      108.55856073]\n",
      "[ 519.65869283    0.            0.            0.        ]\n",
      "[0, 1, -1.0, -1.0]\n",
      "[   1.4224      108.41926428]\n",
      "[ 519.65869283  687.39392495    0.            0.        ]\n",
      "[0, 1, 2, -1.0]\n",
      "[   2.4892      112.02449724]\n",
      "[ 519.65869283  687.39392495  622.58433616    0.        ]\n",
      "[0, 1, 2, 3]\n",
      "[   3.556       111.61491354]\n",
      "[ 519.65869283  687.39392495  622.58433616  542.31059103]\n",
      "519.658692829\n",
      "[   3.61761933  182.15111183    0.            0.          147.7362814\n",
      "  644.91007234   18.30689216  885.49131909  239.45943488  155.58112383\n",
      "  201.98513407  187.62655752] [  0.           0.          57.61800796  50.38154693   0.           0.           0.\n",
      "   0.           0.           0.           0.           0.        ]\n",
      "[4, 1, 2, 3]\n",
      "[   4.6228      109.87845309]\n",
      "[ 803.42932763  167.73523212  102.92564333   22.6518982 ]\n",
      "22.6518981979\n",
      "[   0.          159.49921364    0.            0.          125.0843832\n",
      "  622.25817414    0.          862.83942089  216.80753668  132.92922564\n",
      "  179.33323587  164.97465933] [ 19.03427886   0.          80.26990616  73.03344513   0.           0.\n",
      "   4.34500604   0.           0.           0.           0.           0.        ]\n",
      "[4, 1, 2, 5]\n",
      "[  5.6896      98.93003261]\n",
      "[  780.77742943   145.08333392    80.27374513  1162.18453771]\n",
      "80.2737451312\n",
      "[   0.           79.2254685     0.            0.           44.81063807\n",
      "  541.98442901    0.          782.56567576  136.53379155   52.6554805\n",
      "   99.05949074   84.7009142 ] [  99.308024      0.          160.54365129  153.30719026    0.            0.\n",
      "   84.61875117    0.            0.            0.            0.            0.        ]\n",
      "[4, 1, 6, 5]\n",
      "[   6.7564      107.72714789]\n",
      "[  700.5036843     64.80958879   610.33636193  1081.91079258]\n",
      "64.8095887887\n",
      "[   0.           14.41587972    0.            0.            0.\n",
      "  477.17484022    0.          717.75608697   71.72420276    0.\n",
      "   34.24990195   19.89132541] [ 164.11761278    0.          225.35324008  218.11677905   19.99895072\n",
      "    0.          149.42833996    0.            0.           12.15410828\n",
      "    0.            0.        ]\n",
      "[4, 7, 6, 5]\n",
      "[  7.8232     90.8224446]\n",
      "[  635.69409551  1405.25767469   545.52677314  1017.10120379]\n",
      "545.526773138\n",
      "[   0.            0.            0.            0.            0.            0.\n",
      "    0.          172.22931384    0.            0.            0.            0.        ] [ 709.64438592  531.11089342  770.88001322  763.64355219  565.52572386\n",
      "   68.35193292  694.9551131     0.          473.80257038  557.68088142\n",
      "  511.27687119  525.63544773]\n",
      "[4, 7, 8, 5]\n",
      "[   8.89        105.98939139]\n",
      "[  90.16732237  859.73090156  844.943676    471.57443065]\n",
      "90.167322373\n",
      "[  0.           0.           0.           0.           0.           0.           0.\n",
      "  82.06199146   0.           0.           0.           0.        ] [ 799.8117083   621.27821579  861.04733559  853.81087456  655.69304623\n",
      "  158.51925529  785.12243547    0.          563.96989275  647.8482038\n",
      "  601.44419356  615.8027701 ]\n",
      "[9, 7, 8, 5]\n",
      "[   9.9568      109.54583177]\n",
      "[ 724.91993963  769.56357918  754.77635363  381.40710828]\n",
      "381.407108277\n",
      "[ 0.  0.  0.  0.  0.  0.  0.  0.  0.  0.  0.  0.] [ 1181.21881657  1002.68532407  1242.45444387  1235.21798284  1037.10015451\n",
      "   539.92636357  1166.52954375   299.34511681   945.37700103  1029.25531207\n",
      "   982.85130184   997.20987838]\n",
      "[9, 7, 8, 10]\n",
      "[  11.0236      113.85660303]\n",
      "[  343.51283135   388.15647091   373.36924535  1237.96061344]\n",
      "343.512831352\n",
      "[ 0.  0.  0.  0.  0.  0.  0.  0.  0.  0.  0.  0.] [ 1524.73164792  1346.19815542  1585.96727522  1578.73081419  1380.61298586\n",
      "   883.43919492  1510.0423751    642.85794817  1288.88983238  1372.76814342\n",
      "  1326.36413319  1340.72270973]\n",
      "[11, 7, 8, 10]\n",
      "[  12.0904      114.34048706]\n",
      "[ 890.67725832   44.64363955   29.856414    894.44778209]\n",
      "29.856414001\n",
      "[ 0.  0.  0.  0.  0.  0.  0.  0.  0.  0.  0.  0.] [ 1554.58806193  1376.05456942  1615.82368922  1608.58722819  1410.46939986\n",
      "   913.29560892  1539.8987891    672.71436217  1318.74624638  1402.62455743\n",
      "  1356.22054719  1370.57912373]\n",
      "[11, 7, 12, 10]\n",
      "[  0.3556      85.63245157]\n",
      "[ 860.82084432   14.78722555  496.73258367  864.59136808]\n",
      "14.7872255539\n",
      "[ 0.  0.  0.  0.  0.  0.  0.  0.  0.  0.  0.  0.] [ 1569.37528748  1390.84179498  1630.61091477  1623.37445374  1425.25662541\n",
      "   928.08283448  1554.68601465   687.50158772  1333.53347193  1417.41178298\n",
      "  1371.00777274  1385.36634929]\n",
      "[11, 13, 12, 10]\n",
      "[  1.4224      84.08182283]\n",
      "[ 846.03361877  663.05648349  481.94535812  849.80414253]\n",
      "481.945358118\n",
      "[ 0.  0.  0.  0.  0.  0.  0.  0.  0.  0.  0.  0.] [ 2051.3206456   1872.7871531   2112.55627289  2105.31981186  1907.20198353\n",
      "  1410.02819259  2036.63137277  1169.44694584  1815.47883005  1899.3571411\n",
      "  1852.95313086  1867.31170741]\n",
      "[11, 13, 14, 10]\n",
      "[  2.4892      83.34820691]\n",
      "[ 364.08826065  181.11112538  593.90804584  367.85878441]\n",
      "181.111125376\n",
      "[ 0.  0.  0.  0.  0.  0.  0.  0.  0.  0.  0.  0.] [ 2232.43177097  2053.89827847  2293.66739827  2286.43093724  2088.31310891\n",
      "  1591.13931797  2217.74249815  1350.55807122  1996.58995543  2080.46826647\n",
      "  2034.06425624  2048.42283278]\n",
      "[11, 15, 14, 10]\n",
      "[  3.556       87.39855388]\n",
      "[ 182.97713527  518.09423136  412.79692046  186.74765904]\n",
      "182.977135271\n",
      "[ 0.  0.  0.  0.  0.  0.  0.  0.  0.  0.  0.  0.] [ 2415.40890625  2236.87541374  2476.64453354  2469.40807251  2271.29024418\n",
      "  1774.11645324  2400.71963342  1533.53520649  2179.5670907   2263.44540175\n",
      "  2217.04139151  2231.39996805]\n",
      "[16, 15, 14, 10]\n",
      "[  4.6228      80.54728321]\n",
      "[ 774.09815775  335.11709609  229.81978519    3.77052377]\n",
      "3.77052376521\n",
      "[ 0.  0.  0.  0.  0.  0.  0.  0.  0.  0.  0.  0.] [ 2419.17943001  2240.64593751  2480.4150573   2473.17859627  2275.06076794\n",
      "  1777.88697701  2404.49015719  1537.30573025  2183.33761446  2267.21592551\n",
      "  2220.81191527  2235.17049182]\n",
      "[16, 15, 14, 18]\n",
      "[  6.7564      79.29959334]\n",
      "[ 770.32763398  331.34657232  226.04926142  581.90880737]\n",
      "226.049261422\n",
      "[ 0.  0.  0.  0.  0.  0.  0.  0.  0.  0.  0.  0.] [ 2645.22869143  2466.69519893  2706.46431873  2699.2278577   2501.11002937\n",
      "  2003.93623843  2630.53941861  1763.35499167  2409.38687589  2493.26518693\n",
      "  2446.8611767   2461.21975324]\n",
      "[16, 15, 20, 18]\n",
      "[  8.89       74.7632718]\n",
      "[ 544.27837256  105.2973109   813.71755642  355.85954595]\n",
      "105.297310902\n",
      "[ 0.  0.  0.  0.  0.  0.  0.  0.  0.  0.  0.  0.] [ 2750.52600233  2571.99250983  2811.76162963  2804.5251686   2606.40734027\n",
      "  2109.23354933  2735.83672951  1868.65230258  2514.68418679  2598.56249784\n",
      "  2552.1584876   2566.51706414]\n",
      "[16, 21, 20, 18]\n",
      "[  9.9568    83.604744]\n",
      "[ 438.98106166  698.97885186  708.42024551  250.56223505]\n",
      "250.562235047\n",
      "[ 0.  0.  0.  0.  0.  0.  0.  0.  0.  0.  0.  0.] [ 3001.08823738  2822.55474488  3062.32386468  3055.08740365  2856.96957532\n",
      "  2359.79578438  2986.39896456  2119.21453762  2765.24642184  2849.12473288\n",
      "  2802.72072265  2817.07929919]\n",
      "[16, 21, 20, 23]\n",
      "[ 12.0904      88.36967739]\n",
      "[ 188.41882661  448.41661681  457.85801047  864.70644865]\n",
      "188.418826611\n",
      "[ 0.  0.  0.  0.  0.  0.  0.  0.  0.  0.  0.  0.] [ 3189.50706399  3010.97357149  3250.74269129  3243.50623026  3045.38840193\n",
      "  2548.21461099  3174.81779117  2307.63336423  2953.66524845  3037.54355949\n",
      "  2991.13954926  3005.4981258 ]\n",
      "[24, 21, 20, 23]\n",
      "[  0.3556      62.70634242]\n",
      "[ 473.80647452  259.9977902   269.43918385  676.28762204]\n",
      "259.997790198\n",
      "[ 0.  0.  0.  0.  0.  0.  0.  0.  0.  0.  0.  0.] [ 3449.50485419  3270.97136169  3510.74048149  3503.50402046  3305.38619213\n",
      "  2808.21240119  3434.81558137  2567.63115443  3213.66303865  3297.54134969\n",
      "  3251.13733945  3265.495916  ]\n",
      "[24, 26, 20, 23]\n",
      "[  2.4892      54.67191659]\n",
      "[ 213.80868432  565.23175551    9.44139366  416.28983184]\n",
      "9.44139365693\n",
      "[ 0.  0.  0.  0.  0.  0.  0.  0.  0.  0.  0.  0.] [ 3458.94624785  3280.41275535  3520.18187514  3512.94541411  3314.82758578\n",
      "  2817.65379484  3444.25697502  2577.07254809  3223.1044323   3306.98274335\n",
      "  3260.57873311  3274.93730966]\n",
      "[24, 26, 27, 23]\n",
      "[  3.556       63.18219421]\n",
      "[ 204.36729066  555.79036186  493.8778717   406.84843818]\n",
      "3249.32503455 269.739644252\n"
     ]
    }
   ],
   "source": [
    "# event driven problem, the system make decision when at least one robot is available\n",
    "def produce_perm(scene_sample):\n",
    "    perm=[]\n",
    "    for i in scene_sample.keys():\n",
    "        char_sp = split('(\\d+)', i)\n",
    "        if char_sp[0]=='pos':\n",
    "            n=scene_sample[i].shape[1]\n",
    "            num_list=[]\n",
    "            for j in range(n):\n",
    "                num_list.append(int(char_sp[1])+j*picker_num)\n",
    "            perm.append(num_list)\n",
    "    perm=np.concatenate(perm)\n",
    "    perm=np.sort(perm)\n",
    "    return perm  \n",
    "perm=produce_perm(scene_sample)\n",
    "print perm\n",
    "robot_assign=list(np.ones(robot_num)*-1)\n",
    "robot_pos = r_initial_pos\n",
    "r_back_time = np.zeros(robot_num)\n",
    "time_w = np.zeros(picker_num)\n",
    "# f_t_state is actual state of pickers\n",
    "def wait_time(scene_sample,f_t,r_back_time,robot_assign, perm_a, time_w):\n",
    "    w_t = np.zeros(f_t.shape)\n",
    "    # Next idle robot\n",
    "    for i in perm_a:\n",
    "        # no available robot, update states to available time\n",
    "        if robot_assign.count(-1) < 1: \n",
    "            delta_t = np.amin(r_back_time)\n",
    "            print delta_t\n",
    "            robot_idx = np.argmin(r_back_time)\n",
    "            # label idle robot\n",
    "            robot_assign[robot_idx] = -1\n",
    "            # update f_t\n",
    "            r_back_time -= delta_t\n",
    "            for m,ft in enumerate(f_t):\n",
    "                if ft < delta_t:\n",
    "                    f_t[m]=0\n",
    "                    w_t[m] += delta_t-ft\n",
    "                else:\n",
    "                    f_t[m] = ft-delta_t\n",
    "            print f_t,w_t\n",
    "        k=robot_assign.index(-1) #return first idle robot number\n",
    "        robot_assign[k]=i\n",
    "        print robot_assign\n",
    "        fur_num = i%picker_num\n",
    "        col_num = int(i)/picker_num\n",
    "        target_pos=scene_sample['pos'+str(fur_num)][:,col_num]\n",
    "        target_ft=scene_sample['ft'+str(fur_num)][col_num]\n",
    "        print target_pos\n",
    "        if target_pos[0]>picker_num*(furrow_width+berry_width):\n",
    "            r_to_target=cityblock(target_pos,center[1])/robot_v\n",
    "            r_back_time[k]=np.maximum(r_to_target,target_ft)+r_to_target\n",
    "        else:\n",
    "            r_to_target=cityblock(target_pos,center[0])/robot_v\n",
    "            r_back_time[k]=np.maximum(r_to_target,target_ft)+r_to_target\n",
    "        print r_back_time\n",
    "    return w_t    \n",
    "# for i,ft in enumerate(f_t_state):\n",
    "#     print i, ft\n",
    "print center[1], center[0]\n",
    "f_t=np.copy(f_t_sample)\n",
    "print f_t\n",
    "w_t = wait_time(scene_sample, f_t, r_back_time, robot_assign, perm, time_w)\n",
    "print w_t.mean(), w_t.std()"
   ]
  },
  {
   "cell_type": "code",
   "execution_count": 12,
   "metadata": {
    "collapsed": true
   },
   "outputs": [],
   "source": [
    "import numpy as np\n",
    "r_assign=np.ones(4)*-1"
   ]
  },
  {
   "cell_type": "code",
   "execution_count": 13,
   "metadata": {},
   "outputs": [
    {
     "data": {
      "text/plain": [
       "(array([0, 1, 2, 3]),)"
      ]
     },
     "execution_count": 13,
     "metadata": {},
     "output_type": "execute_result"
    }
   ],
   "source": [
    "np.where(r_assign==-1)"
   ]
  },
  {
   "cell_type": "code",
   "execution_count": 14,
   "metadata": {
    "collapsed": true
   },
   "outputs": [],
   "source": [
    "r_assign[0]=1\n",
    "r_assign[1]=2\n",
    "r_assign[2]=3"
   ]
  },
  {
   "cell_type": "code",
   "execution_count": 62,
   "metadata": {},
   "outputs": [
    {
     "name": "stdout",
     "output_type": "stream",
     "text": [
      "[ 0.  1.  1.  1.]\n",
      "0\n",
      "(array([], dtype=int64),)\n"
     ]
    }
   ],
   "source": [
    "print r_assign\n",
    "print np.where((r_assign<3) &(r_assign>3))[0].size\n",
    "print np.where((r_assign<3) &(r_assign>3))"
   ]
  },
  {
   "cell_type": "code",
   "execution_count": 46,
   "metadata": {},
   "outputs": [
    {
     "name": "stdout",
     "output_type": "stream",
     "text": [
      "[ 0.  1.  1.  1.]\n"
     ]
    }
   ],
   "source": [
    "r_assign[(r_assign>1)]-=1\n",
    "print r_assign"
   ]
  },
  {
   "cell_type": "code",
   "execution_count": 47,
   "metadata": {},
   "outputs": [],
   "source": [
    "for i in range(len(r_assign)):r_assign[i]=i"
   ]
  },
  {
   "cell_type": "code",
   "execution_count": 48,
   "metadata": {},
   "outputs": [
    {
     "data": {
      "text/plain": [
       "array([ 0.,  1.,  2.,  3.])"
      ]
     },
     "execution_count": 48,
     "metadata": {},
     "output_type": "execute_result"
    }
   ],
   "source": [
    "r_assign"
   ]
  },
  {
   "cell_type": "code",
   "execution_count": 51,
   "metadata": {},
   "outputs": [
    {
     "name": "stdout",
     "output_type": "stream",
     "text": [
      "[ 0.  1.  1.  1.]\n"
     ]
    }
   ],
   "source": [
    "r_assign[(r_assign>1)]-=1\n",
    "print r_assign"
   ]
  },
  {
   "cell_type": "code",
   "execution_count": 1,
   "metadata": {},
   "outputs": [],
   "source": [
    "import pygame"
   ]
  },
  {
   "cell_type": "code",
   "execution_count": 10,
   "metadata": {},
   "outputs": [
    {
     "name": "stdout",
     "output_type": "stream",
     "text": [
      "10\n",
      "10\n"
     ]
    }
   ],
   "source": [
    "a=raw_input()\n",
    "print a"
   ]
  },
  {
   "cell_type": "code",
   "execution_count": 15,
   "metadata": {},
   "outputs": [
    {
     "data": {
      "text/plain": [
       "(array([3]),)"
      ]
     },
     "execution_count": 15,
     "metadata": {},
     "output_type": "execute_result"
    }
   ],
   "source": [
    "np.where(r_assign==-1)"
   ]
  },
  {
   "cell_type": "code",
   "execution_count": 16,
   "metadata": {},
   "outputs": [
    {
     "ename": "TypeError",
     "evalue": "unsupported operand type(s) for -: 'list' and 'list'",
     "output_type": "error",
     "traceback": [
      "\u001b[0;31m---------------------------------------------------------------------------\u001b[0m",
      "\u001b[0;31mTypeError\u001b[0m                                 Traceback (most recent call last)",
      "\u001b[0;32m<ipython-input-16-a54c56c70c49>\u001b[0m in \u001b[0;36m<module>\u001b[0;34m()\u001b[0m\n\u001b[0;32m----> 1\u001b[0;31m \u001b[0mrange\u001b[0m\u001b[0;34m(\u001b[0m\u001b[0;36m10\u001b[0m\u001b[0;34m)\u001b[0m\u001b[0;34m-\u001b[0m\u001b[0;34m[\u001b[0m\u001b[0;36m2\u001b[0m\u001b[0;34m,\u001b[0m\u001b[0;36m3\u001b[0m\u001b[0;34m,\u001b[0m\u001b[0;36m4\u001b[0m\u001b[0;34m,\u001b[0m\u001b[0;36m6\u001b[0m\u001b[0;34m,\u001b[0m\u001b[0;36m8\u001b[0m\u001b[0;34m]\u001b[0m\u001b[0;34m\u001b[0m\u001b[0m\n\u001b[0m",
      "\u001b[0;31mTypeError\u001b[0m: unsupported operand type(s) for -: 'list' and 'list'"
     ]
    }
   ],
   "source": [
    "range(10)-[2,3,4,6,8]"
   ]
  },
  {
   "cell_type": "code",
   "execution_count": null,
   "metadata": {
    "collapsed": true
   },
   "outputs": [],
   "source": []
  }
 ],
 "metadata": {
  "kernelspec": {
   "display_name": "Python tensorflow",
   "language": "python",
   "name": "tensorflow"
  },
  "language_info": {
   "codemirror_mode": {
    "name": "ipython",
    "version": 2
   },
   "file_extension": ".py",
   "mimetype": "text/x-python",
   "name": "python",
   "nbconvert_exporter": "python",
   "pygments_lexer": "ipython2",
   "version": "2.7.13"
  }
 },
 "nbformat": 4,
 "nbformat_minor": 2
}
